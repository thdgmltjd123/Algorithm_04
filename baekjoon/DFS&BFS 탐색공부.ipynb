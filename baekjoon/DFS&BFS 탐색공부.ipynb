{
 "cells": [
  {
   "cell_type": "markdown",
   "metadata": {},
   "source": [
    "### DFS와 BFS(인접행렬) 2020-08-03"
   ]
  },
  {
   "cell_type": "code",
   "execution_count": 60,
   "metadata": {},
   "outputs": [
    {
     "name": "stdout",
     "output_type": "stream",
     "text": [
      "6 5 6\n",
      "5 4\n",
      "4 6\n",
      "2 3\n",
      "3 1\n",
      "1 6\n",
      "6 1 3 2 4 5\n",
      "6 1 4 3 5 2\n"
     ]
    }
   ],
   "source": [
    "from collections import deque\n",
    "\n",
    "n,m,root = map(int,input().split())\n",
    "graph = [[0]*n for i in range(n)]\n",
    "#인접 행렬 정의\n",
    "for i in range(m):\n",
    "    first, second = map(int, input().split())\n",
    "    graph[first-1][second-1] = 1\n",
    "    graph[second-1][first-1] = 1\n",
    "    \n",
    "def dfs_mat(graph, root):\n",
    "    visited = []\n",
    "    stack = [root]\n",
    "    \n",
    "    while stack:\n",
    "        n = stack[-1]\n",
    "        flag = False\n",
    "        \n",
    "        if n not in visited:\n",
    "            visited.append(n)\n",
    "        \n",
    "        for i in range(len(graph)):\n",
    "            if graph[n-1][i] == 1 and i+1 not in visited:\n",
    "                stack.append(i+1)\n",
    "                flag = True\n",
    "                break;\n",
    "                    \n",
    "        if not flag:\n",
    "            stack.pop()\n",
    "                \n",
    "    return visited\n",
    "\n",
    "def bfs_mat(graph, root):\n",
    "    visited = []\n",
    "    queue = deque([root])\n",
    "    \n",
    "    while queue:\n",
    "        n = queue.popleft()\n",
    "        if n not in visited:\n",
    "            visited.append(n)\n",
    "            \n",
    "        for i in range(len(graph)):\n",
    "            if graph[n-1][i] == 1 and i+1 not in visited:\n",
    "                queue.append(i+1)\n",
    "                \n",
    "    return visited\n",
    "    \n",
    "\n",
    "print(*dfs_mat(graph,root))\n",
    "print(*bfs_mat(graph,root))"
   ]
  },
  {
   "cell_type": "markdown",
   "metadata": {},
   "source": [
    "### DFS와 BFS(인접리스트) 2020-08-03"
   ]
  },
  {
   "cell_type": "code",
   "execution_count": 31,
   "metadata": {
    "collapsed": true
   },
   "outputs": [
    {
     "name": "stdout",
     "output_type": "stream",
     "text": [
      "4 5 1\n",
      "1 2\n",
      "1 3\n",
      "1 4\n",
      "2 4\n",
      "3 4\n",
      "1 2 4 3\n",
      "1 2 3 4\n"
     ]
    }
   ],
   "source": [
    "from collections import deque\n",
    "\n",
    "def dfs_adj(graph, root):\n",
    "    visited = []\n",
    "    stack = [root]\n",
    "\n",
    "    while stack:\n",
    "        n = stack.pop()\n",
    "        if n not in visited:\n",
    "            visited.append(n)\n",
    "            if n in graph:\n",
    "                tmp = list(set(graph[n]) - set(visited))\n",
    "                tmp.sort(reverse = True)\n",
    "                stack += tmp\n",
    "    return visited\n",
    "\n",
    "def bfs_adj(graph, root):\n",
    "    visited = []\n",
    "    queue = deque([root])\n",
    "    \n",
    "    while queue:\n",
    "        n = queue.popleft()\n",
    "        if n not in visited:\n",
    "            visited.append(n)\n",
    "            if n in graph:\n",
    "                tmp = list(set(graph[n]) - set(visited))\n",
    "                tmp.sort()\n",
    "                queue += tmp\n",
    "    return visited\n",
    "\n",
    "n,m,root = map(int,input().split())\n",
    "graph = {}\n",
    "for i in range(m):\n",
    "    first,second = map(int,input().split())\n",
    "    if first not in graph:\n",
    "        graph[first] = [second]\n",
    "    elif second not in graph[first]:\n",
    "        graph[first].append(second)\n",
    "    if second not in graph:\n",
    "        graph[second] = [first]\n",
    "    elif first not in graph[second]:\n",
    "        graph[second].append(first)\n",
    "\n",
    "print(*dfs_adj(graph,root))\n",
    "print(*bfs_adj(graph,root))"
   ]
  },
  {
   "cell_type": "markdown",
   "metadata": {},
   "source": [
    "인접행렬은 탐색의 시간복잡도가 O(n^2)이지만 인접리스트의 탐색은 시간복잡도가 O(2n)이다. 따라서 정점의 수가 적을 땐 인접행렬의 구현도 상관이 없지만 정점의 수가 많아진다면 인접리스트를 이용한 탐색 알고리즘을 구현해야 할 것이다."
   ]
  },
  {
   "cell_type": "code",
   "execution_count": null,
   "metadata": {},
   "outputs": [],
   "source": []
  },
  {
   "cell_type": "code",
   "execution_count": null,
   "metadata": {},
   "outputs": [],
   "source": []
  },
  {
   "cell_type": "code",
   "execution_count": null,
   "metadata": {},
   "outputs": [],
   "source": []
  },
  {
   "cell_type": "code",
   "execution_count": null,
   "metadata": {},
   "outputs": [],
   "source": []
  },
  {
   "cell_type": "code",
   "execution_count": null,
   "metadata": {},
   "outputs": [],
   "source": []
  }
 ],
 "metadata": {
  "kernelspec": {
   "display_name": "Python 3",
   "language": "python",
   "name": "python3"
  },
  "language_info": {
   "codemirror_mode": {
    "name": "ipython",
    "version": 3
   },
   "file_extension": ".py",
   "mimetype": "text/x-python",
   "name": "python",
   "nbconvert_exporter": "python",
   "pygments_lexer": "ipython3",
   "version": "3.7.1"
  }
 },
 "nbformat": 4,
 "nbformat_minor": 2
}
