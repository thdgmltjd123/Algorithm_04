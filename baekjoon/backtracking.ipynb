{
 "cells": [
  {
   "cell_type": "markdown",
   "metadata": {},
   "source": [
    "### N과 M(2) 2020-07-16"
   ]
  },
  {
   "cell_type": "code",
   "execution_count": 1,
   "metadata": {},
   "outputs": [
    {
     "name": "stdout",
     "output_type": "stream",
     "text": [
      "4 2\n",
      "1 2 \n",
      "1 3 \n",
      "1 4 \n",
      "2 3 \n",
      "2 4 \n",
      "3 4 \n"
     ]
    }
   ],
   "source": [
    "#input 숫자 받기\n",
    "n, m = map(int, input().split())\n",
    "#방문 배열\n",
    "visited = [False]*(n+1)\n",
    "#출력 배열\n",
    "output = [0]*m\n",
    "\n",
    "def nm2(depth,idx):\n",
    "    #탐색이 모두 끝나면 출력\n",
    "    if depth == m:\n",
    "        for i in output:\n",
    "            print(i, end = ' ')\n",
    "        print()\n",
    "        return\n",
    "    #output행렬의 바로 전의 다음부터 for문을 돌면 됨\n",
    "    for i in range(idx,n+1):\n",
    "        if not visited[i]:\n",
    "            visited[i] = True\n",
    "            output[depth] = i\n",
    "            idx = output[depth] + 1\n",
    "            nm2(depth+1,idx)\n",
    "            visited[i] = False\n",
    "            \n",
    "nm2(0,1)"
   ]
  },
  {
   "cell_type": "markdown",
   "metadata": {},
   "source": [
    "### N과 M(4) 2020-07-16"
   ]
  },
  {
   "cell_type": "code",
   "execution_count": 20,
   "metadata": {
    "scrolled": true
   },
   "outputs": [
    {
     "name": "stdout",
     "output_type": "stream",
     "text": [
      "3 3\n",
      "1 1 1 \n",
      "1 1 2 \n",
      "1 1 3 \n",
      "1 2 2 \n",
      "1 2 3 \n",
      "1 3 3 \n",
      "2 2 2 \n",
      "2 2 3 \n",
      "2 3 3 \n",
      "3 3 3 \n"
     ]
    }
   ],
   "source": [
    "n, m = map(int, input().split())\n",
    "output = [0]*m\n",
    "\n",
    "def nm4(depth, idx):\n",
    "    if depth == m:\n",
    "        for i in output:\n",
    "            print(i, end = \" \")\n",
    "        print()\n",
    "        return\n",
    "    #중복이 가능하고 해당 원소부터 시작\n",
    "    for i in range(idx, n+1):\n",
    "        output[depth] = i\n",
    "        idx = i\n",
    "        nm4(depth+1,idx)\n",
    "        \n",
    "nm4(0,1)"
   ]
  },
  {
   "cell_type": "markdown",
   "metadata": {},
   "source": [
    "### 스도쿠 2020-07-17"
   ]
  },
  {
   "cell_type": "code",
   "execution_count": 24,
   "metadata": {
    "collapsed": true
   },
   "outputs": [
    {
     "name": "stdout",
     "output_type": "stream",
     "text": [
      "0 3 5 4 6 9 2 7 8\n",
      "7 8 2 1 0 5 6 0 9\n",
      "0 6 0 2 7 8 1 3 5\n",
      "3 2 1 0 4 6 8 9 7\n",
      "8 0 4 9 1 3 5 0 6\n",
      "5 9 6 8 2 0 4 1 3\n",
      "9 1 7 6 5 2 0 8 0\n",
      "6 0 3 7 0 1 9 5 2\n",
      "2 5 8 3 9 4 7 6 0\n",
      "1 3 5 4 6 9 2 7 8 \n",
      "7 8 2 1 3 5 6 4 9 \n",
      "4 6 9 2 7 8 1 3 5 \n",
      "3 2 1 5 4 6 8 9 7 \n",
      "8 7 4 9 1 3 5 2 6 \n",
      "5 9 6 8 2 7 4 1 3 \n",
      "9 1 7 6 5 2 3 8 4 \n",
      "6 4 3 7 8 1 9 5 2 \n",
      "2 5 8 3 9 4 7 6 1 \n"
     ]
    },
    {
     "ename": "SystemExit",
     "evalue": "0",
     "output_type": "error",
     "traceback": [
      "An exception has occurred, use %tb to see the full traceback.\n",
      "\u001b[1;31mSystemExit\u001b[0m\u001b[1;31m:\u001b[0m 0\n"
     ]
    },
    {
     "name": "stderr",
     "output_type": "stream",
     "text": [
      "C:\\Users\\pleasure\\Anaconda3\\lib\\site-packages\\IPython\\core\\interactiveshell.py:3275: UserWarning: To exit: use 'exit', 'quit', or Ctrl-D.\n",
      "  warn(\"To exit: use 'exit', 'quit', or Ctrl-D.\", stacklevel=1)\n"
     ]
    }
   ],
   "source": [
    "#2차원 배열 list comprehension으로 생성\n",
    "#list comprehension ==> [변수 활용한 값의 형태 for 사용할 변수 이름 in 범위]\n",
    "import sys\n",
    "board = [list(map(int,input().split())) for i in range(9)]\n",
    "loc_zero = [(i,j) for i in range(9) for j in range(9) if board[i][j] == 0]\n",
    "\n",
    "def isOK(row,col,k):\n",
    "    #가로검사\n",
    "    for i in range(9):\n",
    "        if board[row][i] == k:\n",
    "            return False\n",
    "    #세로검사\n",
    "    for i in range(9):\n",
    "        if board[i][col] == k:\n",
    "            return False\n",
    "    #소사각형 검사\n",
    "    rstart = row//3 * 3\n",
    "    cstart = col//3 * 3\n",
    "    for i in range(rstart,rstart+3):\n",
    "        for j in range(cstart,cstart+3):\n",
    "            if board[i][j] == k:\n",
    "                return False\n",
    "    return True\n",
    "\n",
    "def sudoku(cnt):\n",
    "    #스도쿠의 칸 중 빈칸(=0)만 알맞은 숫자로 채우면 된다.\n",
    "    #나머지 칸은 이미 고정된 상태이므로 건드릴 의미가 없음\n",
    "    if cnt == len(loc_zero):\n",
    "        for i in range(9):\n",
    "            for j in range(9):\n",
    "                print(board[i][j], end = ' ')\n",
    "            print()\n",
    "        #딱 하나만 출력    \n",
    "        sys.exit(0)\n",
    "    #빈칸에 적합한 숫자를 찾아나간다 1~9\n",
    "    for k in range(1,10):\n",
    "        xloc = loc_zero[cnt][0]\n",
    "        yloc = loc_zero[cnt][1]\n",
    "        if isOK(xloc,yloc,k):\n",
    "            board[xloc][yloc] = k\n",
    "            sudoku(cnt+1)\n",
    "            board[xloc][yloc] = 0\n",
    "sudoku(0)       "
   ]
  },
  {
   "cell_type": "markdown",
   "metadata": {},
   "source": [
    "### 연산자 끼워넣기 2020-07-17"
   ]
  },
  {
   "cell_type": "code",
   "execution_count": 50,
   "metadata": {
    "scrolled": true
   },
   "outputs": [
    {
     "name": "stdout",
     "output_type": "stream",
     "text": [
      "6\n",
      "1 2 3 4 5 6\n",
      "2 1 1 1\n",
      "54\n",
      "-24\n"
     ]
    }
   ],
   "source": [
    "# 중복 순열을 반복문으로 해결 하는 방법?\n",
    "# 생각보다 함수의 인자가 많아서 확장성이 떨어진다.\n",
    "# 반복문으로 효율적으로 해결할 수 있는 방법을 생각해보자.\n",
    "def opPerm(cnt, result, add, sub, mul, div):\n",
    "    global max_result, min_result\n",
    "    if cnt == n:\n",
    "        max_result = max(max_result, result)\n",
    "        min_result = min(min_result, result)\n",
    "        return\n",
    "    \n",
    "    if add:\n",
    "        opPerm(cnt+1, result + number[cnt], add-1, sub, mul, div)\n",
    "    if sub:\n",
    "        opPerm(cnt+1, result - number[cnt], add, sub-1, mul, div)\n",
    "    if mul:\n",
    "        opPerm(cnt+1, result * number[cnt], add, sub, mul-1, div)\n",
    "    if div:\n",
    "        if result < 0:\n",
    "            opPerm(cnt+1, -(-result//number[cnt]) , add, sub, mul, div-1)\n",
    "        else:\n",
    "            opPerm(cnt+1, result//number[cnt], add, sub, mul, div-1)\n",
    "\n",
    "n = int(input())\n",
    "number = list(map(int, input().split()))\n",
    "operator = list(map(int,input().split()))\n",
    "max_result = -1000000000\n",
    "min_result = 1000000000\n",
    "\n",
    "opPerm(1,number[0],operator[0],operator[1],operator[2],operator[3])\n",
    "print(max_result)\n",
    "print(min_result)"
   ]
  },
  {
   "cell_type": "markdown",
   "metadata": {},
   "source": [
    "### 스타트와 링크 2020-07-17"
   ]
  },
  {
   "cell_type": "code",
   "execution_count": 30,
   "metadata": {
    "scrolled": true
   },
   "outputs": [
    {
     "name": "stdout",
     "output_type": "stream",
     "text": [
      "8\n",
      "0 5 4 5 4 5 4 5\n",
      "4 0 5 1 2 3 4 5\n",
      "9 8 0 1 2 3 1 2\n",
      "9 9 9 0 9 9 9 9\n",
      "1 1 1 1 0 1 1 1\n",
      "8 7 6 5 4 0 3 2\n",
      "9 1 9 1 9 1 0 9\n",
      "6 5 4 3 2 1 9 0\n",
      "1\n"
     ]
    }
   ],
   "source": [
    "#N과 M(2)와 동일한 문제로 생각하였음.\n",
    "#힌트에 따르면 짝수가 늘어날 수록 깊이가 하나씩 늘어나고\n",
    "#link의 집합은 전체 집합의 차집합이 된다.\n",
    "def TeamBalance(cnt, idx):\n",
    "    global min_diff\n",
    "    if cnt == n // 2:\n",
    "        #전체 인덱스 집합(0,1,2,....n-1)\n",
    "        idx_li = list(range(n))\n",
    "        #link_li ==> idx_li - start_li\n",
    "        link_li = list(set(idx_li)-set(start_li))\n",
    "        #각 팀의 능력값\n",
    "        start = 0\n",
    "        link = 0\n",
    "        #대각원소는 0이므로 걍 이중반복으로 더해도 됨\n",
    "        for x in start_li:\n",
    "            for y in start_li:\n",
    "                start +=  Sij[x][y]\n",
    "        for x in link_li:\n",
    "            for y in link_li:\n",
    "                link +=  Sij[x][y]\n",
    "        #차이 구하기\n",
    "        diff = abs(start-link)\n",
    "        min_diff = min(min_diff,diff)\n",
    "        return\n",
    "    # N과 M(2) 문제를 이용하여 start_li만들기\n",
    "    for i in range(idx,n):\n",
    "        if not visited[i]:\n",
    "            visited[i] = True\n",
    "            start_li[cnt] = i\n",
    "            idx = i+1\n",
    "            TeamBalance(cnt+1,idx)\n",
    "            visited[i] = False\n",
    "            \n",
    "n = int(input())\n",
    "Sij = [list(map(int, input().split())) for i in range(n)]\n",
    "start_li = [0]*(n//2)\n",
    "visited = [False]*n\n",
    "#100+100이라고 생각했는데 101이어도 되나 싶긴한데 대충써~\n",
    "min_diff = 201\n",
    "\n",
    "TeamBalance(0,0)\n",
    "print(min_diff)"
   ]
  },
  {
   "cell_type": "markdown",
   "metadata": {},
   "source": [
    "### N과 M(5) 2020-07-31"
   ]
  },
  {
   "cell_type": "code",
   "execution_count": 13,
   "metadata": {
    "collapsed": true
   },
   "outputs": [
    {
     "name": "stdout",
     "output_type": "stream",
     "text": [
      "4 2\n",
      "9 8 7 1\n",
      "1 7\n",
      "1 8\n",
      "1 9\n",
      "7 1\n",
      "7 8\n",
      "7 9\n",
      "8 1\n",
      "8 7\n",
      "8 9\n",
      "9 1\n",
      "9 7\n",
      "9 8\n"
     ]
    }
   ],
   "source": [
    "n, m = map(int,input().split())\n",
    "output = [0] * m\n",
    "visited = [False] * n\n",
    "\n",
    "\n",
    "def nm5(cnt, arr):\n",
    "    arr = sorted(arr)\n",
    "    if cnt == m:\n",
    "        print(*output)\n",
    "        return\n",
    "    for i in range(len(arr)):\n",
    "        if not visited[i]:\n",
    "            visited[i] = True\n",
    "            output[cnt] = arr[i]\n",
    "            nm5(cnt+1,arr)\n",
    "            visited[i] = False\n",
    "            \n",
    "            \n",
    "arr = list(map(int,input().split()))\n",
    "nm5(0,arr)"
   ]
  },
  {
   "cell_type": "markdown",
   "metadata": {},
   "source": [
    "### N과 M(6) 2020-07-31"
   ]
  },
  {
   "cell_type": "code",
   "execution_count": 16,
   "metadata": {},
   "outputs": [
    {
     "name": "stdout",
     "output_type": "stream",
     "text": [
      "4 4\n",
      "1231 1232 1233 1234\n",
      "1231 1232 1233 1234\n"
     ]
    }
   ],
   "source": [
    "n, m = map(int, input().split())\n",
    "output = [0] * m\n",
    "visited = [False] * n\n",
    "\n",
    "def nm6(cnt,idx, arr):\n",
    "    arr = sorted(arr)\n",
    "    if cnt == m:\n",
    "        print(*output)\n",
    "        return\n",
    "    for i in range(idx,len(arr)):\n",
    "        if not visited[i]:\n",
    "            visited[i] = True\n",
    "            output[cnt] = arr[i]\n",
    "            idx = i + 1\n",
    "            nm6(cnt+1,idx,arr)\n",
    "            visited[i] = False\n",
    "\n",
    "arr = list(map(int,input().split()))\n",
    "nm6(0,0,arr)"
   ]
  },
  {
   "cell_type": "markdown",
   "metadata": {},
   "source": [
    "### N과 M(7) 2020-07-31"
   ]
  },
  {
   "cell_type": "code",
   "execution_count": 19,
   "metadata": {
    "collapsed": true
   },
   "outputs": [
    {
     "name": "stdout",
     "output_type": "stream",
     "text": [
      "3 3\n",
      "1231 1232 1233\n",
      "1231 1231 1231\n",
      "1231 1231 1232\n",
      "1231 1231 1233\n",
      "1231 1232 1231\n",
      "1231 1232 1232\n",
      "1231 1232 1233\n",
      "1231 1233 1231\n",
      "1231 1233 1232\n",
      "1231 1233 1233\n",
      "1232 1231 1231\n",
      "1232 1231 1232\n",
      "1232 1231 1233\n",
      "1232 1232 1231\n",
      "1232 1232 1232\n",
      "1232 1232 1233\n",
      "1232 1233 1231\n",
      "1232 1233 1232\n",
      "1232 1233 1233\n",
      "1233 1231 1231\n",
      "1233 1231 1232\n",
      "1233 1231 1233\n",
      "1233 1232 1231\n",
      "1233 1232 1232\n",
      "1233 1232 1233\n",
      "1233 1233 1231\n",
      "1233 1233 1232\n",
      "1233 1233 1233\n"
     ]
    }
   ],
   "source": [
    "n,m = map(int,input().split())\n",
    "output = [0] * m\n",
    "\n",
    "def nm7(cnt,arr):\n",
    "    arr = sorted(arr)\n",
    "    if cnt == m:\n",
    "        print(*output)\n",
    "        return\n",
    "    for i in range(len(arr)):\n",
    "        output[cnt] = arr[i]\n",
    "        nm7(cnt+1,arr)\n",
    "\n",
    "arr = list(map(int,input().split()))\n",
    "nm7(0,arr)"
   ]
  },
  {
   "cell_type": "markdown",
   "metadata": {},
   "source": [
    "### N과 M(8) 2020-07-31"
   ]
  },
  {
   "cell_type": "code",
   "execution_count": 21,
   "metadata": {
    "collapsed": true
   },
   "outputs": [
    {
     "name": "stdout",
     "output_type": "stream",
     "text": [
      "4 2\n",
      "9 8 7 1\n",
      "1 1\n",
      "1 7\n",
      "1 8\n",
      "1 9\n",
      "7 7\n",
      "7 8\n",
      "7 9\n",
      "8 8\n",
      "8 9\n",
      "9 9\n"
     ]
    }
   ],
   "source": [
    "n,m = map(int,input().split())\n",
    "output = [0] * m\n",
    "\n",
    "def nm8(cnt,idx, arr):\n",
    "    arr = sorted(arr)\n",
    "    if cnt == m:\n",
    "        print(*output)\n",
    "        return\n",
    "    for i in range(idx,len(arr)):\n",
    "        output[cnt] = arr[i]\n",
    "        idx = i\n",
    "        nm8(cnt+1,idx,arr)\n",
    "\n",
    "arr = list(map(int,input().split()))\n",
    "nm8(0,0,arr)"
   ]
  },
  {
   "cell_type": "markdown",
   "metadata": {},
   "source": [
    "### N과 M(9) 2020-07-31"
   ]
  },
  {
   "cell_type": "code",
   "execution_count": 39,
   "metadata": {},
   "outputs": [
    {
     "name": "stdout",
     "output_type": "stream",
     "text": [
      "3 1\n",
      "2 4 4\n",
      "2\n",
      "4\n"
     ]
    }
   ],
   "source": [
    "n,m = map(int, input().split())\n",
    "output = [0] * m\n",
    "visited = [False] * n\n",
    "\n",
    "def nm9(cnt,arr):\n",
    "    arr = sorted(arr)\n",
    "    if cnt == m:\n",
    "        print(*output)\n",
    "        return\n",
    "    prev = -1\n",
    "    for i in range(len(arr)):\n",
    "        if not visited[i] and prev != arr[i]:\n",
    "            visited[i] = True\n",
    "            output[cnt] = arr[i]\n",
    "            prev = arr[i]\n",
    "            nm9(cnt+1,arr)\n",
    "            visited[i] = False\n",
    "arr = list(map(int,input().split()))\n",
    "nm9(0,arr)"
   ]
  },
  {
   "cell_type": "markdown",
   "metadata": {},
   "source": [
    "### N과 M(10) 2020-07-31"
   ]
  },
  {
   "cell_type": "code",
   "execution_count": 42,
   "metadata": {},
   "outputs": [
    {
     "name": "stdout",
     "output_type": "stream",
     "text": [
      "4 4\n",
      "1 1 2 2\n",
      "1 1 2 2\n"
     ]
    }
   ],
   "source": [
    "n,m = map(int, input().split())\n",
    "output = [0] * m\n",
    "visited = [False] * n\n",
    "\n",
    "def nm10(cnt,idx,arr):\n",
    "    arr = sorted(arr)\n",
    "    if cnt == m:\n",
    "        print(*output)\n",
    "        return\n",
    "    prev = -1\n",
    "    for i in range(idx,len(arr)):\n",
    "        if not visited[i] and prev != arr[i]:\n",
    "            visited[i] = True\n",
    "            output[cnt] = arr[i]\n",
    "            idx = i + 1\n",
    "            prev = arr[i]\n",
    "            nm10(cnt+1,idx, arr)\n",
    "            visited[i] = False\n",
    "arr = list(map(int,input().split()))\n",
    "nm10(0,0,arr)"
   ]
  },
  {
   "cell_type": "markdown",
   "metadata": {},
   "source": [
    "### N과 M(11) 2020-07-31"
   ]
  },
  {
   "cell_type": "code",
   "execution_count": 44,
   "metadata": {
    "collapsed": true
   },
   "outputs": [
    {
     "name": "stdout",
     "output_type": "stream",
     "text": [
      "4 4\n",
      "1 1 2 2\n",
      "1 1 1 1\n",
      "1 1 1 2\n",
      "1 1 2 1\n",
      "1 1 2 2\n",
      "1 2 1 1\n",
      "1 2 1 2\n",
      "1 2 2 1\n",
      "1 2 2 2\n",
      "2 1 1 1\n",
      "2 1 1 2\n",
      "2 1 2 1\n",
      "2 1 2 2\n",
      "2 2 1 1\n",
      "2 2 1 2\n",
      "2 2 2 1\n",
      "2 2 2 2\n"
     ]
    }
   ],
   "source": [
    "n,m = map(int, input().split())\n",
    "output = [0] * m\n",
    "\n",
    "def nm11(cnt,arr):\n",
    "    arr = sorted(arr)\n",
    "    if cnt == m:\n",
    "        print(*output)\n",
    "        return\n",
    "    prev = -1\n",
    "    for i in range(len(arr)):\n",
    "        if prev != arr[i]:\n",
    "            output[cnt] = arr[i]\n",
    "            prev = arr[i]\n",
    "            nm11(cnt+1,arr)\n",
    "arr = list(map(int,input().split()))\n",
    "nm11(0,arr)"
   ]
  },
  {
   "cell_type": "markdown",
   "metadata": {},
   "source": [
    "### N과 M(12) 2020-07-31"
   ]
  },
  {
   "cell_type": "code",
   "execution_count": 49,
   "metadata": {},
   "outputs": [
    {
     "name": "stdout",
     "output_type": "stream",
     "text": [
      "4 4\n",
      "1 1 2 2\n",
      "1 1 1 1\n",
      "1 1 1 2\n",
      "1 1 2 2\n",
      "1 2 2 2\n",
      "2 2 2 2\n"
     ]
    }
   ],
   "source": [
    "n,m = map(int, input().split())\n",
    "output = [0] * m\n",
    "visited = [False] * n\n",
    "\n",
    "def nm12(cnt,idx,arr):\n",
    "    arr = sorted(arr)\n",
    "    if cnt == m:\n",
    "        print(*output)\n",
    "        return\n",
    "    prev = -1\n",
    "    for i in range(idx,len(arr)):\n",
    "        if prev != arr[i]:\n",
    "            output[cnt] = arr[i]\n",
    "            idx = i\n",
    "            prev = arr[i]\n",
    "            nm12(cnt+1,idx, arr)\n",
    "arr = list(map(int,input().split()))\n",
    "nm12(0,0,arr)"
   ]
  },
  {
   "cell_type": "code",
   "execution_count": null,
   "metadata": {},
   "outputs": [],
   "source": []
  }
 ],
 "metadata": {
  "kernelspec": {
   "display_name": "Python 3",
   "language": "python",
   "name": "python3"
  },
  "language_info": {
   "codemirror_mode": {
    "name": "ipython",
    "version": 3
   },
   "file_extension": ".py",
   "mimetype": "text/x-python",
   "name": "python",
   "nbconvert_exporter": "python",
   "pygments_lexer": "ipython3",
   "version": "3.7.1"
  }
 },
 "nbformat": 4,
 "nbformat_minor": 2
}
